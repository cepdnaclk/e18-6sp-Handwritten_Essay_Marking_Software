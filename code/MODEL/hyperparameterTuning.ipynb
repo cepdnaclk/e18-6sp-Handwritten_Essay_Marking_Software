{
  "nbformat": 4,
  "nbformat_minor": 0,
  "metadata": {
    "colab": {
      "provenance": []
    },
    "kernelspec": {
      "name": "python3",
      "display_name": "Python 3"
    },
    "language_info": {
      "name": "python"
    }
  },
  "cells": [
    {
      "cell_type": "code",
      "execution_count": null,
      "metadata": {
        "id": "O9-VPQjpVKaw"
      },
      "outputs": [],
      "source": [
        "from sklearn.ensemble import RandomForestClassifier\n",
        "from sklearn.model_selection import RandomizedSearchCV, train_test_split\n",
        "from sklearn.metrics import accuracy_score, classification_report"
      ]
    },
    {
      "cell_type": "markdown",
      "source": [
        "# features & labels"
      ],
      "metadata": {
        "id": "yIJhYaXTVYZZ"
      }
    },
    {
      "cell_type": "code",
      "source": [
        "X = df.drop(['essay', 'cleaned_essay', 'grade'], axis=1)  # Drop unnecessary columns\n",
        "y = df['grade']"
      ],
      "metadata": {
        "id": "6MRzXTSHVX-6"
      },
      "execution_count": null,
      "outputs": []
    },
    {
      "cell_type": "code",
      "source": [
        "X_train, X_test, y_train, y_test = train_test_split(X, y, test_size=0.2, random_state=42)\n"
      ],
      "metadata": {
        "id": "4Qf7UyhHVfYf"
      },
      "execution_count": null,
      "outputs": []
    },
    {
      "cell_type": "code",
      "source": [
        "rf = RandomForestClassifier(random_state=42)\n"
      ],
      "metadata": {
        "id": "2oJx9tgKVhbR"
      },
      "execution_count": null,
      "outputs": []
    },
    {
      "cell_type": "markdown",
      "source": [
        "# parameter grid for Randomized Search"
      ],
      "metadata": {
        "id": "TnFVsWE0VkRX"
      }
    },
    {
      "cell_type": "code",
      "source": [
        "param_dist = {\n",
        "    'n_estimators': [100, 200, 500, 1000],\n",
        "    'max_depth': [10, 20, 30, None],\n",
        "    'min_samples_split': [2, 5, 10],\n",
        "    'min_samples_leaf': [1, 2, 4],\n",
        "    'max_features': ['auto', 'sqrt', 'log2']\n",
        "}"
      ],
      "metadata": {
        "id": "XujuaBSDVmLP"
      },
      "execution_count": null,
      "outputs": []
    },
    {
      "cell_type": "code",
      "source": [
        "random_search = RandomizedSearchCV(rf, param_distributions=param_dist, n_iter=50, cv=5, random_state=42, n_jobs=-1)\n",
        "random_search.fit(X_train, y_train)"
      ],
      "metadata": {
        "id": "OP7t8Jt8Vqbs"
      },
      "execution_count": null,
      "outputs": []
    },
    {
      "cell_type": "markdown",
      "source": [
        "# best model"
      ],
      "metadata": {
        "id": "80DlyC6tVr7k"
      }
    },
    {
      "cell_type": "code",
      "source": [
        "best_rf = random_search.best_estimator_\n"
      ],
      "metadata": {
        "id": "mzazRaKHVtVM"
      },
      "execution_count": null,
      "outputs": []
    },
    {
      "cell_type": "markdown",
      "source": [
        "# Predict on test data using the best model\n"
      ],
      "metadata": {
        "id": "dWmYfrYkVvKE"
      }
    },
    {
      "cell_type": "code",
      "source": [
        "y_pred = best_rf.predict(X_test)\n"
      ],
      "metadata": {
        "id": "yw1V_gmrVwUW"
      },
      "execution_count": null,
      "outputs": []
    },
    {
      "cell_type": "code",
      "source": [
        "print(\"Best Parameters:\", random_search.best_params_)\n",
        "print(\"Accuracy:\", accuracy_score(y_test, y_pred))\n",
        "print(\"Classification Report:\\n\", classification_report(y_test, y_pred))"
      ],
      "metadata": {
        "id": "wHi9vZ8_Vx3g"
      },
      "execution_count": null,
      "outputs": []
    }
  ]
}
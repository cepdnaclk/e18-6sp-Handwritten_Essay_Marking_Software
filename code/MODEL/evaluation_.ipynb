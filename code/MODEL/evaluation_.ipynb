{
  "nbformat": 4,
  "nbformat_minor": 0,
  "metadata": {
    "colab": {
      "provenance": []
    },
    "kernelspec": {
      "name": "python3",
      "display_name": "Python 3"
    },
    "language_info": {
      "name": "python"
    }
  },
  "cells": [
    {
      "cell_type": "markdown",
      "source": [
        "# SHAP analysis"
      ],
      "metadata": {
        "id": "AW6eaFptWCv1"
      }
    },
    {
      "cell_type": "code",
      "execution_count": null,
      "metadata": {
        "id": "DRvuEnS_V-t5"
      },
      "outputs": [],
      "source": [
        "import shap\n",
        "\n",
        "# SHAP to interpret model predictions\n",
        "explainer = shap.TreeExplainer(best_rf)\n",
        "shap_values = explainer.shap_values(X_test)\n",
        "\n",
        "shap.summary_plot(shap_values, X_test, plot_type=\"bar\", feature_names=X.columns)"
      ]
    }
  ]
}